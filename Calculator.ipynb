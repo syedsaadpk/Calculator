{
 "cells": [
  {
   "cell_type": "markdown",
   "metadata": {},
   "source": [
    "# Calculator"
   ]
  },
  {
   "cell_type": "code",
   "execution_count": 14,
   "metadata": {},
   "outputs": [
    {
     "name": "stdout",
     "output_type": "stream",
     "text": [
      "Enter First Number: 8\n",
      "Enter An Operator Like +,-,*,/,//: *\n",
      "Enter Second Number: 2\n",
      "8*2=16 \n"
     ]
    }
   ],
   "source": [
    "try:\n",
    "    num1 = int(input('Enter First Number: '))\n",
    "    op = input('Enter An Operator Like +,-,*,/,//: ')\n",
    "    num2 = int(input('Enter Second Number: '))\n",
    "    if op == '+':\n",
    "        ans = num1+num2\n",
    "        print(f'{num1}+{num2}={ans} ')\n",
    "    elif op == '-':\n",
    "        ans = num1-num2\n",
    "        print(f'{num1}-{num2}={ans} ')\n",
    "    elif op == '*':\n",
    "        ans = num1*num2\n",
    "        print(f'{num1}*{num2}={ans} ')\n",
    "    elif op == '/':\n",
    "        ans = num1/num2\n",
    "        print(f'{num1}/{num2}={ans} ')\n",
    "    elif op == '//':\n",
    "        ans = num1//num2\n",
    "        print(f'{num1}//{num2}={ans} ')\n",
    "    else:\n",
    "        print('Operator Not Found ')\n",
    "except ValueError:\n",
    "    print('Invalid Sayntax ')"
   ]
  }
 ],
 "metadata": {
  "kernelspec": {
   "display_name": "Python 3",
   "language": "python",
   "name": "python3"
  },
  "language_info": {
   "codemirror_mode": {
    "name": "ipython",
    "version": 3
   },
   "file_extension": ".py",
   "mimetype": "text/x-python",
   "name": "python",
   "nbconvert_exporter": "python",
   "pygments_lexer": "ipython3",
   "version": "3.7.3"
  }
 },
 "nbformat": 4,
 "nbformat_minor": 2
}
